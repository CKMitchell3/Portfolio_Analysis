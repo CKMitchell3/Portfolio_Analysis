{
 "cells": [
  {
   "cell_type": "code",
   "execution_count": 1,
   "id": "3447866b-e18e-4250-b805-8c56eba80854",
   "metadata": {},
   "outputs": [],
   "source": [
    "#Import your libraries and dependencies\n",
    "import os\n",
    "import pandas as pd\n",
    "import yfinance as yf\n",
    "import numpy as np\n",
    "import pandas_datareader as pdr\n",
    "\n",
    "%matplotlib inline"
   ]
  },
  {
   "cell_type": "code",
   "execution_count": 2,
   "id": "4fd79c18-c23d-4d85-8c46-03641d55b6bf",
   "metadata": {},
   "outputs": [],
   "source": [
    "#Set your Datareader\n",
    "yf.pdr_override()\n",
    "\n",
    "#Set your tickers\n",
    "tickers = [\"NVDA\"]\n",
    "\n",
    "#Set your portfolio dates\n",
    "start = '2016-01-01'\n",
    "end = '2021-05-06'"
   ]
  },
  {
   "cell_type": "code",
   "execution_count": 3,
   "id": "e4087ebe-d337-4068-ab94-8734445be03d",
   "metadata": {},
   "outputs": [
    {
     "name": "stdout",
     "output_type": "stream",
     "text": [
      "[*********************100%***********************]  1 of 1 completed\n"
     ]
    },
    {
     "data": {
      "text/html": [
       "<div>\n",
       "<style scoped>\n",
       "    .dataframe tbody tr th:only-of-type {\n",
       "        vertical-align: middle;\n",
       "    }\n",
       "\n",
       "    .dataframe tbody tr th {\n",
       "        vertical-align: top;\n",
       "    }\n",
       "\n",
       "    .dataframe thead th {\n",
       "        text-align: right;\n",
       "    }\n",
       "</style>\n",
       "<table border=\"1\" class=\"dataframe\">\n",
       "  <thead>\n",
       "    <tr style=\"text-align: right;\">\n",
       "      <th></th>\n",
       "      <th>Open</th>\n",
       "      <th>High</th>\n",
       "      <th>Low</th>\n",
       "      <th>Close</th>\n",
       "      <th>Adj Close</th>\n",
       "      <th>Volume</th>\n",
       "    </tr>\n",
       "    <tr>\n",
       "      <th>Date</th>\n",
       "      <th></th>\n",
       "      <th></th>\n",
       "      <th></th>\n",
       "      <th></th>\n",
       "      <th></th>\n",
       "      <th></th>\n",
       "    </tr>\n",
       "  </thead>\n",
       "  <tbody>\n",
       "    <tr>\n",
       "      <th>2016-01-04</th>\n",
       "      <td>32.290001</td>\n",
       "      <td>32.580002</td>\n",
       "      <td>32.040001</td>\n",
       "      <td>32.369999</td>\n",
       "      <td>31.661398</td>\n",
       "      <td>8951900</td>\n",
       "    </tr>\n",
       "    <tr>\n",
       "      <th>2016-01-05</th>\n",
       "      <td>32.980000</td>\n",
       "      <td>33.439999</td>\n",
       "      <td>32.500000</td>\n",
       "      <td>32.889999</td>\n",
       "      <td>32.170021</td>\n",
       "      <td>12256800</td>\n",
       "    </tr>\n",
       "    <tr>\n",
       "      <th>2016-01-06</th>\n",
       "      <td>32.349998</td>\n",
       "      <td>32.500000</td>\n",
       "      <td>31.160000</td>\n",
       "      <td>31.530001</td>\n",
       "      <td>30.839788</td>\n",
       "      <td>11233600</td>\n",
       "    </tr>\n",
       "    <tr>\n",
       "      <th>2016-01-07</th>\n",
       "      <td>30.740000</td>\n",
       "      <td>30.950001</td>\n",
       "      <td>29.879999</td>\n",
       "      <td>30.280001</td>\n",
       "      <td>29.617151</td>\n",
       "      <td>16132600</td>\n",
       "    </tr>\n",
       "    <tr>\n",
       "      <th>2016-01-08</th>\n",
       "      <td>30.670000</td>\n",
       "      <td>30.700001</td>\n",
       "      <td>29.570000</td>\n",
       "      <td>29.629999</td>\n",
       "      <td>28.981380</td>\n",
       "      <td>9961800</td>\n",
       "    </tr>\n",
       "  </tbody>\n",
       "</table>\n",
       "</div>"
      ],
      "text/plain": [
       "                 Open       High        Low      Close  Adj Close    Volume\n",
       "Date                                                                       \n",
       "2016-01-04  32.290001  32.580002  32.040001  32.369999  31.661398   8951900\n",
       "2016-01-05  32.980000  33.439999  32.500000  32.889999  32.170021  12256800\n",
       "2016-01-06  32.349998  32.500000  31.160000  31.530001  30.839788  11233600\n",
       "2016-01-07  30.740000  30.950001  29.879999  30.280001  29.617151  16132600\n",
       "2016-01-08  30.670000  30.700001  29.570000  29.629999  28.981380   9961800"
      ]
     },
     "execution_count": 3,
     "metadata": {},
     "output_type": "execute_result"
    }
   ],
   "source": [
    "#Load your stock Dataframe into a variable\n",
    "nvidia_stock = pdr.data.get_data_yahoo(tickers, start, end)\n",
    "\n",
    "nvidia_stock.head()"
   ]
  },
  {
   "cell_type": "code",
   "execution_count": null,
   "id": "aec06e95-3a4b-438b-91e5-0bd9bd868b23",
   "metadata": {},
   "outputs": [],
   "source": []
  }
 ],
 "metadata": {
  "kernelspec": {
   "display_name": "Python 3",
   "language": "python",
   "name": "python3"
  },
  "language_info": {
   "codemirror_mode": {
    "name": "ipython",
    "version": 3
   },
   "file_extension": ".py",
   "mimetype": "text/x-python",
   "name": "python",
   "nbconvert_exporter": "python",
   "pygments_lexer": "ipython3",
   "version": "3.9.4"
  }
 },
 "nbformat": 4,
 "nbformat_minor": 5
}
