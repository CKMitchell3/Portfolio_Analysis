{
 "cells": [
  {
   "cell_type": "code",
   "execution_count": 1,
   "id": "31a98d95-dd53-48b0-8f32-1b1b52264e27",
   "metadata": {},
   "outputs": [],
   "source": [
    "#Import your libraries and dependencies\n",
    "import os\n",
    "import pandas as pd\n",
    "import yfinance as yf\n",
    "import numpy as np\n",
    "import pandas_datareader as pdr\n",
    "\n",
    "%matplotlib inline"
   ]
  },
  {
   "cell_type": "code",
   "execution_count": 2,
   "id": "7a474201-22f1-4085-bef9-f130f8430afa",
   "metadata": {},
   "outputs": [],
   "source": [
    "#Set your Datareader\n",
    "yf.pdr_override()\n",
    "\n",
    "#Set your tickers\n",
    "tickers = [\"SQ\"]\n",
    "\n",
    "#Set your portfolio dates\n",
    "start = '2016-01-01'\n",
    "end = '2021-05-06'"
   ]
  },
  {
   "cell_type": "code",
   "execution_count": 3,
   "id": "e2a72b3e-7195-4b78-ba8d-9e4b06627237",
   "metadata": {},
   "outputs": [
    {
     "name": "stdout",
     "output_type": "stream",
     "text": [
      "[*********************100%***********************]  1 of 1 completed\n"
     ]
    },
    {
     "data": {
      "text/html": [
       "<div>\n",
       "<style scoped>\n",
       "    .dataframe tbody tr th:only-of-type {\n",
       "        vertical-align: middle;\n",
       "    }\n",
       "\n",
       "    .dataframe tbody tr th {\n",
       "        vertical-align: top;\n",
       "    }\n",
       "\n",
       "    .dataframe thead th {\n",
       "        text-align: right;\n",
       "    }\n",
       "</style>\n",
       "<table border=\"1\" class=\"dataframe\">\n",
       "  <thead>\n",
       "    <tr style=\"text-align: right;\">\n",
       "      <th></th>\n",
       "      <th>Open</th>\n",
       "      <th>High</th>\n",
       "      <th>Low</th>\n",
       "      <th>Close</th>\n",
       "      <th>Adj Close</th>\n",
       "      <th>Volume</th>\n",
       "    </tr>\n",
       "    <tr>\n",
       "      <th>Date</th>\n",
       "      <th></th>\n",
       "      <th></th>\n",
       "      <th></th>\n",
       "      <th></th>\n",
       "      <th></th>\n",
       "      <th></th>\n",
       "    </tr>\n",
       "  </thead>\n",
       "  <tbody>\n",
       "    <tr>\n",
       "      <th>2016-01-04</th>\n",
       "      <td>12.75</td>\n",
       "      <td>12.90</td>\n",
       "      <td>12.050</td>\n",
       "      <td>12.16</td>\n",
       "      <td>12.16</td>\n",
       "      <td>2751500</td>\n",
       "    </tr>\n",
       "    <tr>\n",
       "      <th>2016-01-05</th>\n",
       "      <td>12.20</td>\n",
       "      <td>12.34</td>\n",
       "      <td>11.500</td>\n",
       "      <td>11.51</td>\n",
       "      <td>11.51</td>\n",
       "      <td>2352800</td>\n",
       "    </tr>\n",
       "    <tr>\n",
       "      <th>2016-01-06</th>\n",
       "      <td>11.50</td>\n",
       "      <td>11.64</td>\n",
       "      <td>11.015</td>\n",
       "      <td>11.52</td>\n",
       "      <td>11.52</td>\n",
       "      <td>1850600</td>\n",
       "    </tr>\n",
       "    <tr>\n",
       "      <th>2016-01-07</th>\n",
       "      <td>11.13</td>\n",
       "      <td>11.37</td>\n",
       "      <td>11.000</td>\n",
       "      <td>11.16</td>\n",
       "      <td>11.16</td>\n",
       "      <td>1636000</td>\n",
       "    </tr>\n",
       "    <tr>\n",
       "      <th>2016-01-08</th>\n",
       "      <td>11.25</td>\n",
       "      <td>11.54</td>\n",
       "      <td>11.200</td>\n",
       "      <td>11.31</td>\n",
       "      <td>11.31</td>\n",
       "      <td>587300</td>\n",
       "    </tr>\n",
       "  </tbody>\n",
       "</table>\n",
       "</div>"
      ],
      "text/plain": [
       "             Open   High     Low  Close  Adj Close   Volume\n",
       "Date                                                       \n",
       "2016-01-04  12.75  12.90  12.050  12.16      12.16  2751500\n",
       "2016-01-05  12.20  12.34  11.500  11.51      11.51  2352800\n",
       "2016-01-06  11.50  11.64  11.015  11.52      11.52  1850600\n",
       "2016-01-07  11.13  11.37  11.000  11.16      11.16  1636000\n",
       "2016-01-08  11.25  11.54  11.200  11.31      11.31   587300"
      ]
     },
     "execution_count": 3,
     "metadata": {},
     "output_type": "execute_result"
    }
   ],
   "source": [
    "#Load your stock Dataframe into a variable\n",
    "square_stock = pdr.data.get_data_yahoo(tickers, start, end)\n",
    "\n",
    "square_stock.head()"
   ]
  },
  {
   "cell_type": "code",
   "execution_count": null,
   "id": "af847da5-d8f4-4b89-9416-6ceaaa668f13",
   "metadata": {},
   "outputs": [],
   "source": []
  }
 ],
 "metadata": {
  "kernelspec": {
   "display_name": "Python 3",
   "language": "python",
   "name": "python3"
  },
  "language_info": {
   "codemirror_mode": {
    "name": "ipython",
    "version": 3
   },
   "file_extension": ".py",
   "mimetype": "text/x-python",
   "name": "python",
   "nbconvert_exporter": "python",
   "pygments_lexer": "ipython3",
   "version": "3.9.4"
  }
 },
 "nbformat": 4,
 "nbformat_minor": 5
}
