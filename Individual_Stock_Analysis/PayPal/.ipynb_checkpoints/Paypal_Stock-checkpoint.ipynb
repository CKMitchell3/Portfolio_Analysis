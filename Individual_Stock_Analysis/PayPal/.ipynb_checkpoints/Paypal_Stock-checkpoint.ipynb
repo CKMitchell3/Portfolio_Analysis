{
 "cells": [
  {
   "cell_type": "code",
   "execution_count": 1,
   "id": "e1a062b6-f55c-40d1-a501-48d341ff6e00",
   "metadata": {},
   "outputs": [],
   "source": [
    "#Import your libraries and dependencies\n",
    "import os\n",
    "import pandas as pd\n",
    "import yfinance as yf\n",
    "import numpy as np\n",
    "import pandas_datareader as pdr\n",
    "\n",
    "%matplotlib inline"
   ]
  },
  {
   "cell_type": "code",
   "execution_count": 2,
   "id": "7a631e48-1312-40bf-9bac-cc9151ef9587",
   "metadata": {},
   "outputs": [],
   "source": [
    "#Set your Datareader\n",
    "yf.pdr_override()\n",
    "\n",
    "#Set your tickers\n",
    "tickers = [\"PYPL\"]\n",
    "\n",
    "#Set your portfolio dates\n",
    "start = '2016-01-01'\n",
    "end = '2021-05-06'"
   ]
  },
  {
   "cell_type": "code",
   "execution_count": 3,
   "id": "783aa6ae-5400-444c-bbfb-0f460ce964c4",
   "metadata": {},
   "outputs": [
    {
     "name": "stdout",
     "output_type": "stream",
     "text": [
      "[*********************100%***********************]  1 of 1 completed\n"
     ]
    },
    {
     "data": {
      "text/html": [
       "<div>\n",
       "<style scoped>\n",
       "    .dataframe tbody tr th:only-of-type {\n",
       "        vertical-align: middle;\n",
       "    }\n",
       "\n",
       "    .dataframe tbody tr th {\n",
       "        vertical-align: top;\n",
       "    }\n",
       "\n",
       "    .dataframe thead th {\n",
       "        text-align: right;\n",
       "    }\n",
       "</style>\n",
       "<table border=\"1\" class=\"dataframe\">\n",
       "  <thead>\n",
       "    <tr style=\"text-align: right;\">\n",
       "      <th></th>\n",
       "      <th>Open</th>\n",
       "      <th>High</th>\n",
       "      <th>Low</th>\n",
       "      <th>Close</th>\n",
       "      <th>Adj Close</th>\n",
       "      <th>Volume</th>\n",
       "    </tr>\n",
       "    <tr>\n",
       "      <th>Date</th>\n",
       "      <th></th>\n",
       "      <th></th>\n",
       "      <th></th>\n",
       "      <th></th>\n",
       "      <th></th>\n",
       "      <th></th>\n",
       "    </tr>\n",
       "  </thead>\n",
       "  <tbody>\n",
       "    <tr>\n",
       "      <th>2016-01-04</th>\n",
       "      <td>35.130001</td>\n",
       "      <td>35.560001</td>\n",
       "      <td>34.279999</td>\n",
       "      <td>34.750000</td>\n",
       "      <td>34.750000</td>\n",
       "      <td>12287700</td>\n",
       "    </tr>\n",
       "    <tr>\n",
       "      <th>2016-01-05</th>\n",
       "      <td>34.980000</td>\n",
       "      <td>34.980000</td>\n",
       "      <td>33.860001</td>\n",
       "      <td>34.310001</td>\n",
       "      <td>34.310001</td>\n",
       "      <td>11227700</td>\n",
       "    </tr>\n",
       "    <tr>\n",
       "      <th>2016-01-06</th>\n",
       "      <td>33.700001</td>\n",
       "      <td>34.009998</td>\n",
       "      <td>33.209999</td>\n",
       "      <td>33.980000</td>\n",
       "      <td>33.980000</td>\n",
       "      <td>8441300</td>\n",
       "    </tr>\n",
       "    <tr>\n",
       "      <th>2016-01-07</th>\n",
       "      <td>33.150002</td>\n",
       "      <td>34.160999</td>\n",
       "      <td>33.020000</td>\n",
       "      <td>33.130001</td>\n",
       "      <td>33.130001</td>\n",
       "      <td>11041100</td>\n",
       "    </tr>\n",
       "    <tr>\n",
       "      <th>2016-01-08</th>\n",
       "      <td>33.459999</td>\n",
       "      <td>33.880001</td>\n",
       "      <td>32.630001</td>\n",
       "      <td>32.689999</td>\n",
       "      <td>32.689999</td>\n",
       "      <td>7848800</td>\n",
       "    </tr>\n",
       "  </tbody>\n",
       "</table>\n",
       "</div>"
      ],
      "text/plain": [
       "                 Open       High        Low      Close  Adj Close    Volume\n",
       "Date                                                                       \n",
       "2016-01-04  35.130001  35.560001  34.279999  34.750000  34.750000  12287700\n",
       "2016-01-05  34.980000  34.980000  33.860001  34.310001  34.310001  11227700\n",
       "2016-01-06  33.700001  34.009998  33.209999  33.980000  33.980000   8441300\n",
       "2016-01-07  33.150002  34.160999  33.020000  33.130001  33.130001  11041100\n",
       "2016-01-08  33.459999  33.880001  32.630001  32.689999  32.689999   7848800"
      ]
     },
     "execution_count": 3,
     "metadata": {},
     "output_type": "execute_result"
    }
   ],
   "source": [
    "#Load your stock Dataframe into a variable\n",
    "paypal_stock = pdr.data.get_data_yahoo(tickers, start, end)\n",
    "\n",
    "paypal_stock.head()"
   ]
  },
  {
   "cell_type": "code",
   "execution_count": null,
   "id": "afad0a45-4a9c-4c3e-b7ef-dfcde22af74c",
   "metadata": {},
   "outputs": [],
   "source": []
  }
 ],
 "metadata": {
  "kernelspec": {
   "display_name": "Python 3",
   "language": "python",
   "name": "python3"
  },
  "language_info": {
   "codemirror_mode": {
    "name": "ipython",
    "version": 3
   },
   "file_extension": ".py",
   "mimetype": "text/x-python",
   "name": "python",
   "nbconvert_exporter": "python",
   "pygments_lexer": "ipython3",
   "version": "3.9.4"
  }
 },
 "nbformat": 4,
 "nbformat_minor": 5
}
