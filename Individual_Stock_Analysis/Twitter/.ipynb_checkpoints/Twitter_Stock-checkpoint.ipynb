{
 "cells": [
  {
   "cell_type": "code",
   "execution_count": 1,
   "id": "04465cf9-ed3d-4b71-9d7c-c7eeb782e8d6",
   "metadata": {},
   "outputs": [],
   "source": [
    "#Import your libraries and dependencies\n",
    "import os\n",
    "import pandas as pd\n",
    "import yfinance as yf\n",
    "import numpy as np\n",
    "import pandas_datareader as pdr\n",
    "\n",
    "%matplotlib inline"
   ]
  },
  {
   "cell_type": "code",
   "execution_count": 2,
   "id": "19d5cd9b-ee51-47c5-9df4-5fc95a7eac4c",
   "metadata": {},
   "outputs": [],
   "source": [
    "#Set your Datareader\n",
    "yf.pdr_override()\n",
    "\n",
    "#Set your tickers\n",
    "tickers = [\"TWTR\"]\n",
    "\n",
    "#Set your portfolio dates\n",
    "start = '2016-01-01'\n",
    "end = '2021-05-06'"
   ]
  },
  {
   "cell_type": "code",
   "execution_count": 3,
   "id": "e8a22491-0d90-437c-b289-6df0598bb93e",
   "metadata": {},
   "outputs": [
    {
     "name": "stdout",
     "output_type": "stream",
     "text": [
      "[*********************100%***********************]  1 of 1 completed\n"
     ]
    },
    {
     "data": {
      "text/html": [
       "<div>\n",
       "<style scoped>\n",
       "    .dataframe tbody tr th:only-of-type {\n",
       "        vertical-align: middle;\n",
       "    }\n",
       "\n",
       "    .dataframe tbody tr th {\n",
       "        vertical-align: top;\n",
       "    }\n",
       "\n",
       "    .dataframe thead th {\n",
       "        text-align: right;\n",
       "    }\n",
       "</style>\n",
       "<table border=\"1\" class=\"dataframe\">\n",
       "  <thead>\n",
       "    <tr style=\"text-align: right;\">\n",
       "      <th></th>\n",
       "      <th>Open</th>\n",
       "      <th>High</th>\n",
       "      <th>Low</th>\n",
       "      <th>Close</th>\n",
       "      <th>Adj Close</th>\n",
       "      <th>Volume</th>\n",
       "    </tr>\n",
       "    <tr>\n",
       "      <th>Date</th>\n",
       "      <th></th>\n",
       "      <th></th>\n",
       "      <th></th>\n",
       "      <th></th>\n",
       "      <th></th>\n",
       "      <th></th>\n",
       "    </tr>\n",
       "  </thead>\n",
       "  <tbody>\n",
       "    <tr>\n",
       "      <th>2016-01-04</th>\n",
       "      <td>22.639999</td>\n",
       "      <td>22.840000</td>\n",
       "      <td>22.110001</td>\n",
       "      <td>22.559999</td>\n",
       "      <td>22.559999</td>\n",
       "      <td>15325000</td>\n",
       "    </tr>\n",
       "    <tr>\n",
       "      <th>2016-01-05</th>\n",
       "      <td>22.790001</td>\n",
       "      <td>23.000000</td>\n",
       "      <td>21.850000</td>\n",
       "      <td>21.920000</td>\n",
       "      <td>21.920000</td>\n",
       "      <td>17077700</td>\n",
       "    </tr>\n",
       "    <tr>\n",
       "      <th>2016-01-06</th>\n",
       "      <td>21.620001</td>\n",
       "      <td>22.180000</td>\n",
       "      <td>21.180000</td>\n",
       "      <td>21.389999</td>\n",
       "      <td>21.389999</td>\n",
       "      <td>14033600</td>\n",
       "    </tr>\n",
       "    <tr>\n",
       "      <th>2016-01-07</th>\n",
       "      <td>21.000000</td>\n",
       "      <td>21.480000</td>\n",
       "      <td>20.200001</td>\n",
       "      <td>20.260000</td>\n",
       "      <td>20.260000</td>\n",
       "      <td>20759800</td>\n",
       "    </tr>\n",
       "    <tr>\n",
       "      <th>2016-01-08</th>\n",
       "      <td>20.510000</td>\n",
       "      <td>20.719999</td>\n",
       "      <td>19.600000</td>\n",
       "      <td>19.980000</td>\n",
       "      <td>19.980000</td>\n",
       "      <td>21832300</td>\n",
       "    </tr>\n",
       "  </tbody>\n",
       "</table>\n",
       "</div>"
      ],
      "text/plain": [
       "                 Open       High        Low      Close  Adj Close    Volume\n",
       "Date                                                                       \n",
       "2016-01-04  22.639999  22.840000  22.110001  22.559999  22.559999  15325000\n",
       "2016-01-05  22.790001  23.000000  21.850000  21.920000  21.920000  17077700\n",
       "2016-01-06  21.620001  22.180000  21.180000  21.389999  21.389999  14033600\n",
       "2016-01-07  21.000000  21.480000  20.200001  20.260000  20.260000  20759800\n",
       "2016-01-08  20.510000  20.719999  19.600000  19.980000  19.980000  21832300"
      ]
     },
     "execution_count": 3,
     "metadata": {},
     "output_type": "execute_result"
    }
   ],
   "source": [
    "#Load your stock Dataframe into a variable\n",
    "twitter_stock = pdr.data.get_data_yahoo(tickers, start, end)\n",
    "\n",
    "twitter_stock.head()"
   ]
  },
  {
   "cell_type": "code",
   "execution_count": null,
   "id": "173349c9-5e60-457f-a158-70be53d0b85b",
   "metadata": {},
   "outputs": [],
   "source": []
  }
 ],
 "metadata": {
  "kernelspec": {
   "display_name": "Python 3",
   "language": "python",
   "name": "python3"
  },
  "language_info": {
   "codemirror_mode": {
    "name": "ipython",
    "version": 3
   },
   "file_extension": ".py",
   "mimetype": "text/x-python",
   "name": "python",
   "nbconvert_exporter": "python",
   "pygments_lexer": "ipython3",
   "version": "3.9.4"
  }
 },
 "nbformat": 4,
 "nbformat_minor": 5
}
