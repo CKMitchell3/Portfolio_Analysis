{
 "cells": [
  {
   "cell_type": "code",
   "execution_count": 1,
   "id": "02ecb83e-7146-4e20-8745-10f82833bed1",
   "metadata": {},
   "outputs": [],
   "source": [
    "#Import your libraries and dependencies\n",
    "import os\n",
    "import pandas as pd\n",
    "import yfinance as yf\n",
    "import numpy as np\n",
    "import pandas_datareader as pdr\n",
    "\n",
    "%matplotlib inline"
   ]
  },
  {
   "cell_type": "code",
   "execution_count": 2,
   "id": "bbab5f09-8166-411c-9514-1f3d4af3dd30",
   "metadata": {},
   "outputs": [],
   "source": [
    "#Set your Datareader\n",
    "yf.pdr_override()\n",
    "\n",
    "#Set your tickers\n",
    "tickers = [\"FB\"]\n",
    "\n",
    "#Set your portfolio dates\n",
    "start = '2016-01-01'\n",
    "end = '2021-05-06'"
   ]
  },
  {
   "cell_type": "code",
   "execution_count": 3,
   "id": "7da0271a-5262-40b2-9a29-404ac2df8dae",
   "metadata": {},
   "outputs": [
    {
     "name": "stdout",
     "output_type": "stream",
     "text": [
      "[*********************100%***********************]  1 of 1 completed\n"
     ]
    },
    {
     "data": {
      "text/html": [
       "<div>\n",
       "<style scoped>\n",
       "    .dataframe tbody tr th:only-of-type {\n",
       "        vertical-align: middle;\n",
       "    }\n",
       "\n",
       "    .dataframe tbody tr th {\n",
       "        vertical-align: top;\n",
       "    }\n",
       "\n",
       "    .dataframe thead th {\n",
       "        text-align: right;\n",
       "    }\n",
       "</style>\n",
       "<table border=\"1\" class=\"dataframe\">\n",
       "  <thead>\n",
       "    <tr style=\"text-align: right;\">\n",
       "      <th></th>\n",
       "      <th>Open</th>\n",
       "      <th>High</th>\n",
       "      <th>Low</th>\n",
       "      <th>Close</th>\n",
       "      <th>Adj Close</th>\n",
       "      <th>Volume</th>\n",
       "    </tr>\n",
       "    <tr>\n",
       "      <th>Date</th>\n",
       "      <th></th>\n",
       "      <th></th>\n",
       "      <th></th>\n",
       "      <th></th>\n",
       "      <th></th>\n",
       "      <th></th>\n",
       "    </tr>\n",
       "  </thead>\n",
       "  <tbody>\n",
       "    <tr>\n",
       "      <th>2016-01-04</th>\n",
       "      <td>101.949997</td>\n",
       "      <td>102.239998</td>\n",
       "      <td>99.750000</td>\n",
       "      <td>102.220001</td>\n",
       "      <td>102.220001</td>\n",
       "      <td>37912400</td>\n",
       "    </tr>\n",
       "    <tr>\n",
       "      <th>2016-01-05</th>\n",
       "      <td>102.889999</td>\n",
       "      <td>103.709999</td>\n",
       "      <td>101.669998</td>\n",
       "      <td>102.730003</td>\n",
       "      <td>102.730003</td>\n",
       "      <td>23258200</td>\n",
       "    </tr>\n",
       "    <tr>\n",
       "      <th>2016-01-06</th>\n",
       "      <td>101.129997</td>\n",
       "      <td>103.769997</td>\n",
       "      <td>100.900002</td>\n",
       "      <td>102.970001</td>\n",
       "      <td>102.970001</td>\n",
       "      <td>25096200</td>\n",
       "    </tr>\n",
       "    <tr>\n",
       "      <th>2016-01-07</th>\n",
       "      <td>100.500000</td>\n",
       "      <td>101.430000</td>\n",
       "      <td>97.300003</td>\n",
       "      <td>97.919998</td>\n",
       "      <td>97.919998</td>\n",
       "      <td>45172900</td>\n",
       "    </tr>\n",
       "    <tr>\n",
       "      <th>2016-01-08</th>\n",
       "      <td>99.879997</td>\n",
       "      <td>100.500000</td>\n",
       "      <td>97.029999</td>\n",
       "      <td>97.330002</td>\n",
       "      <td>97.330002</td>\n",
       "      <td>35402300</td>\n",
       "    </tr>\n",
       "  </tbody>\n",
       "</table>\n",
       "</div>"
      ],
      "text/plain": [
       "                  Open        High         Low       Close   Adj Close  \\\n",
       "Date                                                                     \n",
       "2016-01-04  101.949997  102.239998   99.750000  102.220001  102.220001   \n",
       "2016-01-05  102.889999  103.709999  101.669998  102.730003  102.730003   \n",
       "2016-01-06  101.129997  103.769997  100.900002  102.970001  102.970001   \n",
       "2016-01-07  100.500000  101.430000   97.300003   97.919998   97.919998   \n",
       "2016-01-08   99.879997  100.500000   97.029999   97.330002   97.330002   \n",
       "\n",
       "              Volume  \n",
       "Date                  \n",
       "2016-01-04  37912400  \n",
       "2016-01-05  23258200  \n",
       "2016-01-06  25096200  \n",
       "2016-01-07  45172900  \n",
       "2016-01-08  35402300  "
      ]
     },
     "execution_count": 3,
     "metadata": {},
     "output_type": "execute_result"
    }
   ],
   "source": [
    "#Load your stock Dataframe into a variable\n",
    "facebook_stock = pdr.data.get_data_yahoo(tickers, start, end)\n",
    "\n",
    "facebook_stock.head()"
   ]
  },
  {
   "cell_type": "code",
   "execution_count": null,
   "id": "a214102c-4095-4694-b92e-da27a6475074",
   "metadata": {},
   "outputs": [],
   "source": []
  }
 ],
 "metadata": {
  "kernelspec": {
   "display_name": "Python 3",
   "language": "python",
   "name": "python3"
  },
  "language_info": {
   "codemirror_mode": {
    "name": "ipython",
    "version": 3
   },
   "file_extension": ".py",
   "mimetype": "text/x-python",
   "name": "python",
   "nbconvert_exporter": "python",
   "pygments_lexer": "ipython3",
   "version": "3.9.4"
  }
 },
 "nbformat": 4,
 "nbformat_minor": 5
}
