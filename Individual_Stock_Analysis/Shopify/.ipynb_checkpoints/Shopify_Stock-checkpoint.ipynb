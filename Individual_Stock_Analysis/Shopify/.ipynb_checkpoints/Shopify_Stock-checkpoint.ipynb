{
 "cells": [
  {
   "cell_type": "code",
   "execution_count": 1,
   "id": "b5cc8c55-1196-48c5-82d5-e74a2e87fa21",
   "metadata": {},
   "outputs": [],
   "source": [
    "#Import your libraries and dependencies\n",
    "import os\n",
    "import pandas as pd\n",
    "import yfinance as yf\n",
    "import numpy as np\n",
    "import pandas_datareader as pdr\n",
    "\n",
    "%matplotlib inline"
   ]
  },
  {
   "cell_type": "code",
   "execution_count": 2,
   "id": "ce8483b3-41a2-42de-b386-03d2ddaba19d",
   "metadata": {},
   "outputs": [],
   "source": [
    "#Set your Datareader\n",
    "yf.pdr_override()\n",
    "\n",
    "#Set your tickers\n",
    "tickers = [\"SHOP\"]\n",
    "\n",
    "#Set your portfolio dates\n",
    "start = '2016-01-01'\n",
    "end = '2021-05-06'"
   ]
  },
  {
   "cell_type": "code",
   "execution_count": 3,
   "id": "a3e46fba-45f8-4727-b8c3-edf269b46602",
   "metadata": {},
   "outputs": [
    {
     "name": "stdout",
     "output_type": "stream",
     "text": [
      "[*********************100%***********************]  1 of 1 completed\n"
     ]
    },
    {
     "data": {
      "text/html": [
       "<div>\n",
       "<style scoped>\n",
       "    .dataframe tbody tr th:only-of-type {\n",
       "        vertical-align: middle;\n",
       "    }\n",
       "\n",
       "    .dataframe tbody tr th {\n",
       "        vertical-align: top;\n",
       "    }\n",
       "\n",
       "    .dataframe thead th {\n",
       "        text-align: right;\n",
       "    }\n",
       "</style>\n",
       "<table border=\"1\" class=\"dataframe\">\n",
       "  <thead>\n",
       "    <tr style=\"text-align: right;\">\n",
       "      <th></th>\n",
       "      <th>Open</th>\n",
       "      <th>High</th>\n",
       "      <th>Low</th>\n",
       "      <th>Close</th>\n",
       "      <th>Adj Close</th>\n",
       "      <th>Volume</th>\n",
       "    </tr>\n",
       "    <tr>\n",
       "      <th>Date</th>\n",
       "      <th></th>\n",
       "      <th></th>\n",
       "      <th></th>\n",
       "      <th></th>\n",
       "      <th></th>\n",
       "      <th></th>\n",
       "    </tr>\n",
       "  </thead>\n",
       "  <tbody>\n",
       "    <tr>\n",
       "      <th>2016-01-04</th>\n",
       "      <td>25.420000</td>\n",
       "      <td>25.834999</td>\n",
       "      <td>24.520000</td>\n",
       "      <td>25.719999</td>\n",
       "      <td>25.719999</td>\n",
       "      <td>601800</td>\n",
       "    </tr>\n",
       "    <tr>\n",
       "      <th>2016-01-05</th>\n",
       "      <td>25.500000</td>\n",
       "      <td>26.500000</td>\n",
       "      <td>25.260000</td>\n",
       "      <td>25.309999</td>\n",
       "      <td>25.309999</td>\n",
       "      <td>418200</td>\n",
       "    </tr>\n",
       "    <tr>\n",
       "      <th>2016-01-06</th>\n",
       "      <td>24.950001</td>\n",
       "      <td>25.340000</td>\n",
       "      <td>24.180000</td>\n",
       "      <td>25.299999</td>\n",
       "      <td>25.299999</td>\n",
       "      <td>256600</td>\n",
       "    </tr>\n",
       "    <tr>\n",
       "      <th>2016-01-07</th>\n",
       "      <td>25.000000</td>\n",
       "      <td>25.580000</td>\n",
       "      <td>24.629999</td>\n",
       "      <td>24.670000</td>\n",
       "      <td>24.670000</td>\n",
       "      <td>416000</td>\n",
       "    </tr>\n",
       "    <tr>\n",
       "      <th>2016-01-08</th>\n",
       "      <td>25.000000</td>\n",
       "      <td>25.370001</td>\n",
       "      <td>24.700001</td>\n",
       "      <td>24.930000</td>\n",
       "      <td>24.930000</td>\n",
       "      <td>137400</td>\n",
       "    </tr>\n",
       "  </tbody>\n",
       "</table>\n",
       "</div>"
      ],
      "text/plain": [
       "                 Open       High        Low      Close  Adj Close  Volume\n",
       "Date                                                                     \n",
       "2016-01-04  25.420000  25.834999  24.520000  25.719999  25.719999  601800\n",
       "2016-01-05  25.500000  26.500000  25.260000  25.309999  25.309999  418200\n",
       "2016-01-06  24.950001  25.340000  24.180000  25.299999  25.299999  256600\n",
       "2016-01-07  25.000000  25.580000  24.629999  24.670000  24.670000  416000\n",
       "2016-01-08  25.000000  25.370001  24.700001  24.930000  24.930000  137400"
      ]
     },
     "execution_count": 3,
     "metadata": {},
     "output_type": "execute_result"
    }
   ],
   "source": [
    "#Load your stock Dataframe into a variable\n",
    "shopify_stock = pdr.data.get_data_yahoo(tickers, start, end)\n",
    "\n",
    "shopify_stock.head()"
   ]
  },
  {
   "cell_type": "code",
   "execution_count": null,
   "id": "264724e7-8f10-48f3-801a-73a9007ae09a",
   "metadata": {},
   "outputs": [],
   "source": []
  }
 ],
 "metadata": {
  "kernelspec": {
   "display_name": "Python 3",
   "language": "python",
   "name": "python3"
  },
  "language_info": {
   "codemirror_mode": {
    "name": "ipython",
    "version": 3
   },
   "file_extension": ".py",
   "mimetype": "text/x-python",
   "name": "python",
   "nbconvert_exporter": "python",
   "pygments_lexer": "ipython3",
   "version": "3.9.4"
  }
 },
 "nbformat": 4,
 "nbformat_minor": 5
}
