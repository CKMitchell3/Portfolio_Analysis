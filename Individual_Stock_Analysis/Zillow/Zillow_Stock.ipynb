{
 "cells": [
  {
   "cell_type": "code",
   "execution_count": 1,
   "id": "39cca8c2-f85e-4f96-b941-7026aaed95c0",
   "metadata": {},
   "outputs": [],
   "source": [
    "#Import your libraries and dependencies\n",
    "import os\n",
    "import pandas as pd\n",
    "import yfinance as yf\n",
    "import numpy as np\n",
    "import pandas_datareader as pdr\n",
    "\n",
    "%matplotlib inline"
   ]
  },
  {
   "cell_type": "code",
   "execution_count": 2,
   "id": "f5d6b79d-22f7-404a-87e5-03023aa44c51",
   "metadata": {},
   "outputs": [],
   "source": [
    "#Set your Datareader\n",
    "yf.pdr_override()\n",
    "\n",
    "#Set your tickers\n",
    "tickers = [\"Z\"]\n",
    "\n",
    "#Set your portfolio dates\n",
    "start = '2016-01-01'\n",
    "end = '2021-05-06'"
   ]
  },
  {
   "cell_type": "code",
   "execution_count": 3,
   "id": "de2b6faa-5689-46fa-afb1-9dace8cd5322",
   "metadata": {},
   "outputs": [
    {
     "name": "stdout",
     "output_type": "stream",
     "text": [
      "[*********************100%***********************]  1 of 1 completed\n"
     ]
    },
    {
     "data": {
      "text/html": [
       "<div>\n",
       "<style scoped>\n",
       "    .dataframe tbody tr th:only-of-type {\n",
       "        vertical-align: middle;\n",
       "    }\n",
       "\n",
       "    .dataframe tbody tr th {\n",
       "        vertical-align: top;\n",
       "    }\n",
       "\n",
       "    .dataframe thead th {\n",
       "        text-align: right;\n",
       "    }\n",
       "</style>\n",
       "<table border=\"1\" class=\"dataframe\">\n",
       "  <thead>\n",
       "    <tr style=\"text-align: right;\">\n",
       "      <th></th>\n",
       "      <th>Open</th>\n",
       "      <th>High</th>\n",
       "      <th>Low</th>\n",
       "      <th>Close</th>\n",
       "      <th>Adj Close</th>\n",
       "      <th>Volume</th>\n",
       "    </tr>\n",
       "    <tr>\n",
       "      <th>Date</th>\n",
       "      <th></th>\n",
       "      <th></th>\n",
       "      <th></th>\n",
       "      <th></th>\n",
       "      <th></th>\n",
       "      <th></th>\n",
       "    </tr>\n",
       "  </thead>\n",
       "  <tbody>\n",
       "    <tr>\n",
       "      <th>2016-01-04</th>\n",
       "      <td>23.080000</td>\n",
       "      <td>23.330000</td>\n",
       "      <td>22.070</td>\n",
       "      <td>22.110001</td>\n",
       "      <td>22.110001</td>\n",
       "      <td>1504400</td>\n",
       "    </tr>\n",
       "    <tr>\n",
       "      <th>2016-01-05</th>\n",
       "      <td>22.209999</td>\n",
       "      <td>22.870001</td>\n",
       "      <td>21.350</td>\n",
       "      <td>21.990000</td>\n",
       "      <td>21.990000</td>\n",
       "      <td>1252600</td>\n",
       "    </tr>\n",
       "    <tr>\n",
       "      <th>2016-01-06</th>\n",
       "      <td>21.719999</td>\n",
       "      <td>22.334999</td>\n",
       "      <td>21.500</td>\n",
       "      <td>21.959999</td>\n",
       "      <td>21.959999</td>\n",
       "      <td>1089100</td>\n",
       "    </tr>\n",
       "    <tr>\n",
       "      <th>2016-01-07</th>\n",
       "      <td>21.490000</td>\n",
       "      <td>22.020000</td>\n",
       "      <td>21.430</td>\n",
       "      <td>21.500000</td>\n",
       "      <td>21.500000</td>\n",
       "      <td>1178900</td>\n",
       "    </tr>\n",
       "    <tr>\n",
       "      <th>2016-01-08</th>\n",
       "      <td>21.660000</td>\n",
       "      <td>22.395000</td>\n",
       "      <td>21.591</td>\n",
       "      <td>22.100000</td>\n",
       "      <td>22.100000</td>\n",
       "      <td>1056500</td>\n",
       "    </tr>\n",
       "  </tbody>\n",
       "</table>\n",
       "</div>"
      ],
      "text/plain": [
       "                 Open       High     Low      Close  Adj Close   Volume\n",
       "Date                                                                   \n",
       "2016-01-04  23.080000  23.330000  22.070  22.110001  22.110001  1504400\n",
       "2016-01-05  22.209999  22.870001  21.350  21.990000  21.990000  1252600\n",
       "2016-01-06  21.719999  22.334999  21.500  21.959999  21.959999  1089100\n",
       "2016-01-07  21.490000  22.020000  21.430  21.500000  21.500000  1178900\n",
       "2016-01-08  21.660000  22.395000  21.591  22.100000  22.100000  1056500"
      ]
     },
     "execution_count": 3,
     "metadata": {},
     "output_type": "execute_result"
    }
   ],
   "source": [
    "#Load your stock Dataframe into a variable\n",
    "zillow_stock = pdr.data.get_data_yahoo(tickers, start, end)\n",
    "\n",
    "zillow_stock.head()"
   ]
  },
  {
   "cell_type": "code",
   "execution_count": null,
   "id": "c669a5f9-3416-40b1-b34b-f372718b03a5",
   "metadata": {},
   "outputs": [],
   "source": []
  }
 ],
 "metadata": {
  "kernelspec": {
   "display_name": "Python 3",
   "language": "python",
   "name": "python3"
  },
  "language_info": {
   "codemirror_mode": {
    "name": "ipython",
    "version": 3
   },
   "file_extension": ".py",
   "mimetype": "text/x-python",
   "name": "python",
   "nbconvert_exporter": "python",
   "pygments_lexer": "ipython3",
   "version": "3.9.4"
  }
 },
 "nbformat": 4,
 "nbformat_minor": 5
}
